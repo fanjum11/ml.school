{
 "cells": [
  {
   "cell_type": "markdown",
   "id": "cd2fdf97-bbc6-4973-bdde-db769f3b2585",
   "metadata": {},
   "source": [
    "# Pipeline of Digits\n",
    "\n",
    "This is a starting notebook for solving the \"Pipeline of Digits\" assignment.\n",
    "\n",
    "\n",
    "This notebook was created by [Santiago L. Valdarrama](https://twitter.com/svpino) as part of the [Machine Learning School](https://www.ml.school) program."
   ]
  },
  {
   "cell_type": "markdown",
   "id": "3ae06bac-01d0-477e-b9f8-1fdd3ebf3dc7",
   "metadata": {},
   "source": [
    "Let's make sure we are running the latest version of the SakeMaker's SDK. **Restart the notebook** after you upgrade the library."
   ]
  },
  {
   "cell_type": "code",
   "execution_count": 1,
   "id": "505a53a1-babe-4238-ad19-e401a9f0a4a7",
   "metadata": {
    "tags": []
   },
   "outputs": [
    {
     "name": "stdout",
     "output_type": "stream",
     "text": [
      "\u001b[33mWARNING: Running pip as the 'root' user can result in broken permissions and conflicting behaviour with the system package manager. It is recommended to use a virtual environment instead: https://pip.pypa.io/warnings/venv\u001b[0m\u001b[33m\n",
      "\u001b[0m\u001b[31mERROR: pip's dependency resolver does not currently take into account all the packages that are installed. This behaviour is the source of the following dependency conflicts.\n",
      "sagemaker 2.156.0 requires PyYAML==6.0, but you have pyyaml 5.4.1 which is incompatible.\u001b[0m\u001b[31m\n",
      "\u001b[0m\u001b[33mWARNING: Running pip as the 'root' user can result in broken permissions and conflicting behaviour with the system package manager. It is recommended to use a virtual environment instead: https://pip.pypa.io/warnings/venv\u001b[0m\u001b[33m\n",
      "\u001b[0m\u001b[31mERROR: pip's dependency resolver does not currently take into account all the packages that are installed. This behaviour is the source of the following dependency conflicts.\n",
      "awscli 1.27.135 requires PyYAML<5.5,>=3.10, but you have pyyaml 6.0 which is incompatible.\u001b[0m\u001b[31m\n",
      "\u001b[0m\u001b[33mWARNING: Running pip as the 'root' user can result in broken permissions and conflicting behaviour with the system package manager. It is recommended to use a virtual environment instead: https://pip.pypa.io/warnings/venv\u001b[0m\u001b[33m\n",
      "\u001b[0mName: sagemaker\n",
      "Version: 2.156.0\n",
      "Summary: Open source library for training and deploying models on Amazon SageMaker.\n",
      "Home-page: https://github.com/aws/sagemaker-python-sdk/\n",
      "Author: Amazon Web Services\n",
      "Author-email: \n",
      "License: Apache License 2.0\n",
      "Location: /usr/local/lib/python3.8/site-packages\n",
      "Requires: attrs, boto3, cloudpickle, google-pasta, importlib-metadata, jsonschema, numpy, packaging, pandas, pathos, platformdirs, protobuf, protobuf3-to-dict, PyYAML, schema, smdebug-rulesconfig, tblib\n",
      "Required-by: \n"
     ]
    }
   ],
   "source": [
    "!pip install -q --upgrade pip\n",
    "!pip install -q --upgrade awscli\n",
    "!pip install -q --upgrade sagemaker\n",
    "!pip show sagemaker"
   ]
  },
  {
   "cell_type": "code",
   "execution_count": 2,
   "id": "8736d294-1434-4739-82a3-d0e7414a41bb",
   "metadata": {
    "tags": []
   },
   "outputs": [],
   "source": [
    "%load_ext autoreload\n",
    "%autoreload 2"
   ]
  },
  {
   "cell_type": "code",
   "execution_count": 17,
   "id": "43919a90-b7ca-427f-a8fd-4e6d30ea75aa",
   "metadata": {
    "tags": []
   },
   "outputs": [],
   "source": [
    "import os\n",
    "import sagemaker\n",
    "import numpy as np\n",
    "import boto3\n",
    "import json\n",
    "import pandas as pd\n",
    "import numpy as np\n",
    "import urllib.request\n",
    "import argparse\n",
    "import tempfile\n",
    "from pathlib import Path\n",
    "\n",
    "from botocore.exceptions import ClientError\n",
    "from sagemaker.inputs import FileSystemInput\n",
    "from sagemaker.processing import ProcessingInput, ProcessingOutput\n",
    "from sagemaker.processing import ScriptProcessor\n",
    "from sagemaker.sklearn.processing import SKLearnProcessor\n",
    "from sagemaker.workflow.steps import ProcessingStep\n",
    "from sagemaker.workflow.model_step import ModelStep\n",
    "from sagemaker.workflow.pipeline_context import PipelineSession\n",
    "from sagemaker.workflow.parameters import ParameterInteger, ParameterString, ParameterFloat\n",
    "from sagemaker.workflow.pipeline import Pipeline\n",
    "from sagemaker.workflow.steps import CacheConfig"
   ]
  },
  {
   "cell_type": "code",
   "execution_count": 3,
   "id": "7b96a6d2-3cd1-49ca-8219-8929c93b741d",
   "metadata": {
    "tags": []
   },
   "outputs": [],
   "source": [
    "import boto3\n",
    "import sagemaker\n",
    "import pandas as pd\n",
    "\n",
    "from pathlib import Path\n",
    "\n",
    "role = sagemaker.get_execution_role()\n",
    "region = boto3.Session().region_name\n",
    "sagemaker_session = sagemaker.session.Session()"
   ]
  },
  {
   "cell_type": "markdown",
   "id": "98619548-6458-4ebd-afcb-547bd2488dae",
   "metadata": {},
   "source": [
    "## Creating the S3 Bucket\n",
    "\n",
    "Let's create an S3 bucket where you will upload all the information generated by the pipeline. Make sure you set `BUCKET` to the name of the bucket you want to use. This name has to be unique.\n",
    "\n",
    "If you want to create a bucket in a region other than `us-east-1`, use this command instead:\n",
    "\n",
    "```\n",
    "!aws s3api create-bucket --bucket $BUCKET --create-bucket-configuration LocationConstraint=$region\n",
    "```\n",
    "\n",
    "The `LocationConstraint` argument should specify the region where you want to create the bucket."
   ]
  },
  {
   "cell_type": "code",
   "execution_count": 4,
   "id": "e3ee4d0e-d3a6-4ac3-bd60-e04dd7028ea1",
   "metadata": {
    "tags": []
   },
   "outputs": [
    {
     "name": "stdout",
     "output_type": "stream",
     "text": [
      "{\n",
      "    \"Location\": \"/mlschool-far2\"\n",
      "}\n"
     ]
    }
   ],
   "source": [
    "BUCKET = \"mlschool-far2\"\n",
    "\n",
    "!aws s3api create-bucket --bucket $BUCKET"
   ]
  },
  {
   "cell_type": "markdown",
   "id": "3580ab4f-7a15-495d-9fbd-cacb546c9536",
   "metadata": {
    "tags": []
   },
   "source": [
    "## Loading the dataset\n",
    "\n",
    "We have two CSV files containing the MNIST dataset. These files come from the [MNIST in CSV](https://www.kaggle.com/datasets/oddrationale/mnist-in-csv) Kaggle dataset.\n",
    "\n",
    "The `mnist_train.csv` file contains 60,000 training examples and labels. The `mnist_test.csv` contains 10,000 test examples and labels. Each row consists of 785 values: the first value is the label (a number from 0 to 9) and the remaining 784 values are the pixel values (a number from 0 to 255)."
   ]
  },
  {
   "cell_type": "markdown",
   "id": "3ddf401e-0e1f-4ef8-824a-98e975438054",
   "metadata": {},
   "source": [
    "Let's extract the `dataset.tar.gz` file."
   ]
  },
  {
   "cell_type": "code",
   "execution_count": 19,
   "id": "ba4210d6-f612-4f7b-9b18-397e2a8ac8e3",
   "metadata": {
    "tags": []
   },
   "outputs": [
    {
     "name": "stdout",
     "output_type": "stream",
     "text": [
      "Dataset S3 location: s3://mlschool-far2/root/ml.school/ml.school/mnist/mnist_train.csv\n"
     ]
    }
   ],
   "source": [
    "MNIST_FOLDER = Path.cwd()\n",
    "# Create the local folder if it doesn't exist.\n",
    "MNIST_FOLDER.mkdir(parents=True, exist_ok=True)\n",
    "\n",
    "DATASET_FOLDER = Path(MNIST_FOLDER) / \"dataset\"\n",
    "LOCAL_FILEPATH = Path(DATASET_FOLDER) / \"mnist_train.csv\"\n",
    "\n",
    "# !tar -xvzf $MNIST_FOLDER/dataset.tar.gz -C $MNIST_FOLDER --no-same-owner\n",
    "S3_FILEPATH = f\"s3://{BUCKET}/{MNIST_FOLDER}\"\n",
    "\n",
    "# Upload the dataset to S3. We need to do this to make it available to \n",
    "# the preprocessing step.\n",
    "INPUT_DATA_URI = sagemaker.s3.S3Uploader.upload(\n",
    "    local_path=str(LOCAL_FILEPATH), \n",
    "    desired_s3_uri=S3_FILEPATH,\n",
    ")\n",
    "print(f\"Dataset S3 location: {INPUT_DATA_URI}\")"
   ]
  },
  {
   "cell_type": "markdown",
   "id": "7df65826-f4e1-4683-8bfe-b7889bf8eec9",
   "metadata": {},
   "source": [
    "Let's load the first 10 rows of the test set."
   ]
  },
  {
   "cell_type": "code",
   "execution_count": 8,
   "id": "6a47f00d-c97c-4dde-b588-21c1f3782c12",
   "metadata": {
    "tags": []
   },
   "outputs": [
    {
     "data": {
      "text/html": [
       "<div>\n",
       "<style scoped>\n",
       "    .dataframe tbody tr th:only-of-type {\n",
       "        vertical-align: middle;\n",
       "    }\n",
       "\n",
       "    .dataframe tbody tr th {\n",
       "        vertical-align: top;\n",
       "    }\n",
       "\n",
       "    .dataframe thead th {\n",
       "        text-align: right;\n",
       "    }\n",
       "</style>\n",
       "<table border=\"1\" class=\"dataframe\">\n",
       "  <thead>\n",
       "    <tr style=\"text-align: right;\">\n",
       "      <th></th>\n",
       "      <th>label</th>\n",
       "      <th>1x1</th>\n",
       "      <th>1x2</th>\n",
       "      <th>1x3</th>\n",
       "      <th>1x4</th>\n",
       "      <th>1x5</th>\n",
       "      <th>1x6</th>\n",
       "      <th>1x7</th>\n",
       "      <th>1x8</th>\n",
       "      <th>1x9</th>\n",
       "      <th>...</th>\n",
       "      <th>28x19</th>\n",
       "      <th>28x20</th>\n",
       "      <th>28x21</th>\n",
       "      <th>28x22</th>\n",
       "      <th>28x23</th>\n",
       "      <th>28x24</th>\n",
       "      <th>28x25</th>\n",
       "      <th>28x26</th>\n",
       "      <th>28x27</th>\n",
       "      <th>28x28</th>\n",
       "    </tr>\n",
       "  </thead>\n",
       "  <tbody>\n",
       "    <tr>\n",
       "      <th>0</th>\n",
       "      <td>5</td>\n",
       "      <td>0</td>\n",
       "      <td>0</td>\n",
       "      <td>0</td>\n",
       "      <td>0</td>\n",
       "      <td>0</td>\n",
       "      <td>0</td>\n",
       "      <td>0</td>\n",
       "      <td>0</td>\n",
       "      <td>0</td>\n",
       "      <td>...</td>\n",
       "      <td>0</td>\n",
       "      <td>0</td>\n",
       "      <td>0</td>\n",
       "      <td>0</td>\n",
       "      <td>0</td>\n",
       "      <td>0</td>\n",
       "      <td>0</td>\n",
       "      <td>0</td>\n",
       "      <td>0</td>\n",
       "      <td>0</td>\n",
       "    </tr>\n",
       "    <tr>\n",
       "      <th>1</th>\n",
       "      <td>0</td>\n",
       "      <td>0</td>\n",
       "      <td>0</td>\n",
       "      <td>0</td>\n",
       "      <td>0</td>\n",
       "      <td>0</td>\n",
       "      <td>0</td>\n",
       "      <td>0</td>\n",
       "      <td>0</td>\n",
       "      <td>0</td>\n",
       "      <td>...</td>\n",
       "      <td>0</td>\n",
       "      <td>0</td>\n",
       "      <td>0</td>\n",
       "      <td>0</td>\n",
       "      <td>0</td>\n",
       "      <td>0</td>\n",
       "      <td>0</td>\n",
       "      <td>0</td>\n",
       "      <td>0</td>\n",
       "      <td>0</td>\n",
       "    </tr>\n",
       "    <tr>\n",
       "      <th>2</th>\n",
       "      <td>4</td>\n",
       "      <td>0</td>\n",
       "      <td>0</td>\n",
       "      <td>0</td>\n",
       "      <td>0</td>\n",
       "      <td>0</td>\n",
       "      <td>0</td>\n",
       "      <td>0</td>\n",
       "      <td>0</td>\n",
       "      <td>0</td>\n",
       "      <td>...</td>\n",
       "      <td>0</td>\n",
       "      <td>0</td>\n",
       "      <td>0</td>\n",
       "      <td>0</td>\n",
       "      <td>0</td>\n",
       "      <td>0</td>\n",
       "      <td>0</td>\n",
       "      <td>0</td>\n",
       "      <td>0</td>\n",
       "      <td>0</td>\n",
       "    </tr>\n",
       "    <tr>\n",
       "      <th>3</th>\n",
       "      <td>1</td>\n",
       "      <td>0</td>\n",
       "      <td>0</td>\n",
       "      <td>0</td>\n",
       "      <td>0</td>\n",
       "      <td>0</td>\n",
       "      <td>0</td>\n",
       "      <td>0</td>\n",
       "      <td>0</td>\n",
       "      <td>0</td>\n",
       "      <td>...</td>\n",
       "      <td>0</td>\n",
       "      <td>0</td>\n",
       "      <td>0</td>\n",
       "      <td>0</td>\n",
       "      <td>0</td>\n",
       "      <td>0</td>\n",
       "      <td>0</td>\n",
       "      <td>0</td>\n",
       "      <td>0</td>\n",
       "      <td>0</td>\n",
       "    </tr>\n",
       "    <tr>\n",
       "      <th>4</th>\n",
       "      <td>9</td>\n",
       "      <td>0</td>\n",
       "      <td>0</td>\n",
       "      <td>0</td>\n",
       "      <td>0</td>\n",
       "      <td>0</td>\n",
       "      <td>0</td>\n",
       "      <td>0</td>\n",
       "      <td>0</td>\n",
       "      <td>0</td>\n",
       "      <td>...</td>\n",
       "      <td>0</td>\n",
       "      <td>0</td>\n",
       "      <td>0</td>\n",
       "      <td>0</td>\n",
       "      <td>0</td>\n",
       "      <td>0</td>\n",
       "      <td>0</td>\n",
       "      <td>0</td>\n",
       "      <td>0</td>\n",
       "      <td>0</td>\n",
       "    </tr>\n",
       "    <tr>\n",
       "      <th>5</th>\n",
       "      <td>2</td>\n",
       "      <td>0</td>\n",
       "      <td>0</td>\n",
       "      <td>0</td>\n",
       "      <td>0</td>\n",
       "      <td>0</td>\n",
       "      <td>0</td>\n",
       "      <td>0</td>\n",
       "      <td>0</td>\n",
       "      <td>0</td>\n",
       "      <td>...</td>\n",
       "      <td>0</td>\n",
       "      <td>0</td>\n",
       "      <td>0</td>\n",
       "      <td>0</td>\n",
       "      <td>0</td>\n",
       "      <td>0</td>\n",
       "      <td>0</td>\n",
       "      <td>0</td>\n",
       "      <td>0</td>\n",
       "      <td>0</td>\n",
       "    </tr>\n",
       "    <tr>\n",
       "      <th>6</th>\n",
       "      <td>1</td>\n",
       "      <td>0</td>\n",
       "      <td>0</td>\n",
       "      <td>0</td>\n",
       "      <td>0</td>\n",
       "      <td>0</td>\n",
       "      <td>0</td>\n",
       "      <td>0</td>\n",
       "      <td>0</td>\n",
       "      <td>0</td>\n",
       "      <td>...</td>\n",
       "      <td>0</td>\n",
       "      <td>0</td>\n",
       "      <td>0</td>\n",
       "      <td>0</td>\n",
       "      <td>0</td>\n",
       "      <td>0</td>\n",
       "      <td>0</td>\n",
       "      <td>0</td>\n",
       "      <td>0</td>\n",
       "      <td>0</td>\n",
       "    </tr>\n",
       "    <tr>\n",
       "      <th>7</th>\n",
       "      <td>3</td>\n",
       "      <td>0</td>\n",
       "      <td>0</td>\n",
       "      <td>0</td>\n",
       "      <td>0</td>\n",
       "      <td>0</td>\n",
       "      <td>0</td>\n",
       "      <td>0</td>\n",
       "      <td>0</td>\n",
       "      <td>0</td>\n",
       "      <td>...</td>\n",
       "      <td>0</td>\n",
       "      <td>0</td>\n",
       "      <td>0</td>\n",
       "      <td>0</td>\n",
       "      <td>0</td>\n",
       "      <td>0</td>\n",
       "      <td>0</td>\n",
       "      <td>0</td>\n",
       "      <td>0</td>\n",
       "      <td>0</td>\n",
       "    </tr>\n",
       "    <tr>\n",
       "      <th>8</th>\n",
       "      <td>1</td>\n",
       "      <td>0</td>\n",
       "      <td>0</td>\n",
       "      <td>0</td>\n",
       "      <td>0</td>\n",
       "      <td>0</td>\n",
       "      <td>0</td>\n",
       "      <td>0</td>\n",
       "      <td>0</td>\n",
       "      <td>0</td>\n",
       "      <td>...</td>\n",
       "      <td>0</td>\n",
       "      <td>0</td>\n",
       "      <td>0</td>\n",
       "      <td>0</td>\n",
       "      <td>0</td>\n",
       "      <td>0</td>\n",
       "      <td>0</td>\n",
       "      <td>0</td>\n",
       "      <td>0</td>\n",
       "      <td>0</td>\n",
       "    </tr>\n",
       "    <tr>\n",
       "      <th>9</th>\n",
       "      <td>4</td>\n",
       "      <td>0</td>\n",
       "      <td>0</td>\n",
       "      <td>0</td>\n",
       "      <td>0</td>\n",
       "      <td>0</td>\n",
       "      <td>0</td>\n",
       "      <td>0</td>\n",
       "      <td>0</td>\n",
       "      <td>0</td>\n",
       "      <td>...</td>\n",
       "      <td>0</td>\n",
       "      <td>0</td>\n",
       "      <td>0</td>\n",
       "      <td>0</td>\n",
       "      <td>0</td>\n",
       "      <td>0</td>\n",
       "      <td>0</td>\n",
       "      <td>0</td>\n",
       "      <td>0</td>\n",
       "      <td>0</td>\n",
       "    </tr>\n",
       "  </tbody>\n",
       "</table>\n",
       "<p>10 rows × 785 columns</p>\n",
       "</div>"
      ],
      "text/plain": [
       "   label  1x1  1x2  1x3  1x4  1x5  1x6  1x7  1x8  1x9  ...  28x19  28x20  \\\n",
       "0      5    0    0    0    0    0    0    0    0    0  ...      0      0   \n",
       "1      0    0    0    0    0    0    0    0    0    0  ...      0      0   \n",
       "2      4    0    0    0    0    0    0    0    0    0  ...      0      0   \n",
       "3      1    0    0    0    0    0    0    0    0    0  ...      0      0   \n",
       "4      9    0    0    0    0    0    0    0    0    0  ...      0      0   \n",
       "5      2    0    0    0    0    0    0    0    0    0  ...      0      0   \n",
       "6      1    0    0    0    0    0    0    0    0    0  ...      0      0   \n",
       "7      3    0    0    0    0    0    0    0    0    0  ...      0      0   \n",
       "8      1    0    0    0    0    0    0    0    0    0  ...      0      0   \n",
       "9      4    0    0    0    0    0    0    0    0    0  ...      0      0   \n",
       "\n",
       "   28x21  28x22  28x23  28x24  28x25  28x26  28x27  28x28  \n",
       "0      0      0      0      0      0      0      0      0  \n",
       "1      0      0      0      0      0      0      0      0  \n",
       "2      0      0      0      0      0      0      0      0  \n",
       "3      0      0      0      0      0      0      0      0  \n",
       "4      0      0      0      0      0      0      0      0  \n",
       "5      0      0      0      0      0      0      0      0  \n",
       "6      0      0      0      0      0      0      0      0  \n",
       "7      0      0      0      0      0      0      0      0  \n",
       "8      0      0      0      0      0      0      0      0  \n",
       "9      0      0      0      0      0      0      0      0  \n",
       "\n",
       "[10 rows x 785 columns]"
      ]
     },
     "execution_count": 8,
     "metadata": {},
     "output_type": "execute_result"
    }
   ],
   "source": [
    "df = pd.read_csv(DATASET_FOLDER / \"mnist_train.csv\", nrows=10)\n",
    "df"
   ]
  },
  {
   "cell_type": "markdown",
   "id": "0a019d1b-4bac-49c5-98bc-ba64174ab084",
   "metadata": {},
   "source": [
    "## Uploading dataset to S3"
   ]
  },
  {
   "cell_type": "code",
   "execution_count": 9,
   "id": "8d0d2b41-3239-4004-b20b-25bdd59b6eb3",
   "metadata": {
    "tags": []
   },
   "outputs": [
    {
     "name": "stdout",
     "output_type": "stream",
     "text": [
      "Train set S3 location: s3://mlschool-far2/root/ml.school/ml.school/mnist/mnist_train.csv\n",
      "Test set S3 location: s3://mlschool-far2/root/ml.school/ml.school/mnist/mnist_test.csv\n"
     ]
    }
   ],
   "source": [
    "S3_FILEPATH = f\"s3://{BUCKET}/{MNIST_FOLDER}\"\n",
    "\n",
    "\n",
    "TRAIN_SET_S3_URI = sagemaker.s3.S3Uploader.upload(\n",
    "    local_path=str(DATASET_FOLDER / \"mnist_train.csv\"), \n",
    "    desired_s3_uri=S3_FILEPATH,\n",
    ")\n",
    "\n",
    "TEST_SET_S3_URI = sagemaker.s3.S3Uploader.upload(\n",
    "    local_path=str(DATASET_FOLDER / \"mnist_test.csv\"), \n",
    "    desired_s3_uri=S3_FILEPATH,\n",
    ")\n",
    "\n",
    "print(f\"Train set S3 location: {TRAIN_SET_S3_URI}\")\n",
    "print(f\"Test set S3 location: {TEST_SET_S3_URI}\")"
   ]
  },
  {
   "cell_type": "code",
   "execution_count": 11,
   "id": "ced0821f-63a5-4e6f-a0b1-6b921e8d61e8",
   "metadata": {
    "tags": []
   },
   "outputs": [
    {
     "name": "stdout",
     "output_type": "stream",
     "text": [
      "Overwriting /root/ml.school/ml.school/mnist/mnist_preprocessor.py\n"
     ]
    }
   ],
   "source": [
    "%%writefile {MNIST_FOLDER}/mnist_preprocessor.py\n",
    "\n",
    "import os\n",
    "import numpy as np\n",
    "import pandas as pd\n",
    "import tempfile\n",
    "\n",
    "from pathlib import Path\n",
    "from sklearn.compose import ColumnTransformer\n",
    "from sklearn.impute import SimpleImputer\n",
    "from sklearn.pipeline import Pipeline\n",
    "from sklearn.preprocessing import OneHotEncoder, LabelEncoder, StandardScaler\n",
    "from pickle import dump\n",
    "\n",
    "\n",
    "# This is the location where the SageMaker Processing job\n",
    "# will save the input dataset.\n",
    "BASE_DIR = \"/opt/ml/mnist_processing\"\n",
    "DATA_FILEPATH = Path(BASE_DIR) / \"input\" / \"mnist_data.csv\"\n",
    "\n",
    "\n",
    "def save_splits(base_dir, train, validation, test):\n",
    "    \"\"\"\n",
    "    One of the goals of this script is to output the three\n",
    "    dataset splits. This function will save each of these\n",
    "    splits to disk.\n",
    "    \"\"\"\n",
    "    \n",
    "    train_path = Path(base_dir) / \"train\" \n",
    "    validation_path = Path(base_dir) / \"validation\" \n",
    "    test_path = Path(base_dir) / \"test\"\n",
    "    \n",
    "    train_path.mkdir(parents=True, exist_ok=True)\n",
    "    validation_path.mkdir(parents=True, exist_ok=True)\n",
    "    test_path.mkdir(parents=True, exist_ok=True)\n",
    "    \n",
    "    pd.DataFrame(train).to_csv(train_path / \"train.csv\", header=False, index=False)\n",
    "    pd.DataFrame(validation).to_csv(validation_path / \"validation.csv\", header=False, index=False)\n",
    "    pd.DataFrame(test).to_csv(test_path / \"test.csv\", header=False, index=False)\n",
    "    \n",
    "\n",
    "def save_pipeline(base_dir, pipeline):\n",
    "    \"\"\"\n",
    "    Saves the Scikit-Learn pipeline that we used to\n",
    "    preprocess the data.\n",
    "    \"\"\"\n",
    "    pipeline_path = Path(base_dir) / \"pipeline\"\n",
    "    pipeline_path.mkdir(parents=True, exist_ok=True)\n",
    "    dump(pipeline, open(pipeline_path / \"pipeline.pkl\", 'wb'))\n",
    "    \n",
    "\n",
    "def generate_baseline_dataset(split_name, base_dir, X, y):\n",
    "    \"\"\"\n",
    "    To monitor the data and the quality of our model we need to compare the \n",
    "    production quality and results against a baseline. To create those baselines, \n",
    "    we need to use a dataset to compute statistics and constraints. That dataset\n",
    "    should contain information in the same format as expected by the production\n",
    "    endpoint. This function will generate a baseline dataset and save it to \n",
    "    disk so we can later use it.\n",
    "    \n",
    "    \"\"\"\n",
    "    baseline_path = Path(base_dir) / f\"{split_name}-baseline\" \n",
    "    baseline_path.mkdir(parents=True, exist_ok=True)\n",
    "\n",
    "    df = X.copy()\n",
    "    \n",
    "    # The baseline dataset needs a column containing the groundtruth.\n",
    "    df[\"groundtruth\"] = y\n",
    "    df[\"groundtruth\"] = df[\"groundtruth\"].values.astype(str)\n",
    "    \n",
    "    # We will use the baseline dataset to generate baselines\n",
    "    # for monitoring data and model quality. To simplify the process, \n",
    "    # we don't want to include any NaN rows.\n",
    "    df = df.dropna()\n",
    "\n",
    "    df.to_json(baseline_path / f\"{split_name}-baseline.json\", orient='records', lines=True)\n",
    "    \n",
    "    \n",
    "def preprocess(base_dir, data_filepath):\n",
    "    \"\"\"\n",
    "    Preprocesses the supplied raw dataset and splits it into a train, validation,\n",
    "    and a test set.\n",
    "    \"\"\"\n",
    "    \n",
    "    df = pd.read_csv(data_filepath)\n",
    "    \n",
    "    X = df.copy()\n",
    "    columns = list(X.columns)\n",
    "    \n",
    "    X = X.to_numpy()\n",
    "    \n",
    "    np.random.shuffle(X)\n",
    "    train, validation, test = np.split(X, [int(.7 * len(X)), int(.85 * len(X))])\n",
    "    \n",
    "    X_train = pd.DataFrame(train, columns=columns)\n",
    "    X_validation = pd.DataFrame(validation, columns=columns)\n",
    "    X_test = pd.DataFrame(test, columns=columns)\n",
    "    \n",
    "    \n",
    "    \n",
    "    y_train = X_train.label\n",
    "    y_validation = X_validation.label\n",
    "    y_test = X_test.label\n",
    "        \n",
    "    X_train.drop([\"label\"], axis=1, inplace=True)\n",
    "    X_validation.drop([\"label\"], axis=1, inplace=True)\n",
    "    X_test.drop([\"label\"], axis=1, inplace=True)\n",
    "\n",
    "    # Let's generate a dataset that we can later use to compute\n",
    "    # baseline statistics and constraints about the data that we\n",
    "    # used to train our model.\n",
    "    \n",
    "    print (\"--------------------------------------------------\")\n",
    "    ### THIS IS CRASHING THE VM; WHY IS THAT\n",
    "    ##generate_baseline_dataset(\"train\", base_dir, X_train, y_train)\n",
    "    print (\"--------------------------------------------------11\")\n",
    "    \n",
    "    # To generate baseline constraints about the quality of the\n",
    "    # model's predictions, we will use the test set.\n",
    "    generate_baseline_dataset(\"test\", base_dir, X_test, y_test)\n",
    "    print (\"--------------------------------------------------22\")\n",
    "        \n",
    "    train = np.concatenate((X_train, np.expand_dims(y_train, axis=1)), axis=1)\n",
    "    validation = np.concatenate((X_validation, np.expand_dims(y_validation, axis=1)), axis=1)\n",
    "    test = np.concatenate((X_test, np.expand_dims(y_test, axis=1)), axis=1)\n",
    "    \n",
    "    print (\"::::::::::::::::::::::::::::::::::::::::::::::::::::::::::::::::::::::::::::\")\n",
    "    \n",
    "    save_splits(base_dir, train, validation, test)\n",
    "        \n",
    "\n",
    "if __name__ == \"__main__\":\n",
    "    preprocess(BASE_DIR, DATA_FILEPATH)"
   ]
  },
  {
   "cell_type": "markdown",
   "id": "5d8fad73-02a2-4bbe-bf2a-9a851113ef4f",
   "metadata": {},
   "source": [
    "## Step 4 - Testing the Preprocessing Script"
   ]
  },
  {
   "cell_type": "code",
   "execution_count": 14,
   "id": "5891ddd8-e893-4377-b01a-eb046f231f37",
   "metadata": {
    "tags": []
   },
   "outputs": [
    {
     "name": "stdout",
     "output_type": "stream",
     "text": [
      "directory is /tmp/tmpwa3ifzz8\n",
      "--------------------------------------------------\n",
      "--------------------------------------------------11\n",
      "--------------------------------------------------22\n",
      "::::::::::::::::::::::::::::::::::::::::::::::::::::::::::::::::::::::::::::\n",
      "Folders: ['test-baseline', 'train', 'validation', 'test']\n",
      "\n",
      "Baseline test:\n",
      "{\"1x1\":0,\"1x2\":0,\"1x3\":0,\"1x4\":0,\"1x5\":0,\"1x6\":0,\"1x7\":0,\"1x8\":0,\"1x9\":0,\"1x10\":0,\"1x11\":0,\"1x12\":0,\"1x13\":0,\"1x14\":0,\"1x15\":0,\"1x16\":0,\"1x17\":0,\"1x18\":0,\"1x19\":0,\"1x20\":0,\"1x21\":0,\"1x22\":0,\"1x23\":0,\"1x24\":0,\"1x25\":0,\"1x26\":0,\"1x27\":0,\"1x28\":0,\"2x1\":0,\"2x2\":0,\"2x3\":0,\"2x4\":0,\"2x5\":0,\"2x6\":0,\"2x7\":0,\"2x8\":0,\"2x9\":0,\"2x10\":0,\"2x11\":0,\"2x12\":0,\"2x13\":0,\"2x14\":0,\"2x15\":0,\"2x16\":0,\"2x17\":0,\"2x18\":0,\"2x19\":0,\"2x20\":0,\"2x21\":0,\"2x22\":0,\"2x23\":0,\"2x24\":0,\"2x25\":0,\"2x26\":0,\"2x27\":0,\"2x28\":0,\"3x1\":0,\"3x2\":0,\"3x3\":0,\"3x4\":0,\"3x5\":0,\"3x6\":0,\"3x7\":0,\"3x8\":0,\"3x9\":0,\"3x10\":0,\"3x11\":0,\"3x12\":0,\"3x13\":0,\"3x14\":0,\"3x15\":0,\"3x16\":0,\"3x17\":0,\"3x18\":0,\"3x19\":0,\"3x20\":0,\"3x21\":0,\"3x22\":0,\"3x23\":0,\"3x24\":0,\"3x25\":0,\"3x26\":0,\"3x27\":0,\"3x28\":0,\"4x1\":0,\"4x2\":0,\"4x3\":0,\"4x4\":0,\"4x5\":0,\"4x6\":0,\"4x7\":0,\"4x8\":0,\"4x9\":0,\"4x10\":0,\"4x11\":0,\"4x12\":0,\"4x13\":0,\"4x14\":0,\"4x15\":0,\"4x16\":0,\"4x17\":0,\"4x18\":0,\"4x19\":0,\"4x20\":0,\"4x21\":0,\"4x22\":0,\"4x23\":0,\"4x24\":0,\"4x25\":0,\"4x26\":0,\"4x27\":0,\"4x28\":0,\"5x1\":0,\"5x2\":0,\"5x3\":0,\"5x4\":0,\"5x5\":0,\"5x6\":0,\"5x7\":0,\"5x8\":0,\"5x9\":0,\"5x10\":13,\"5x11\":184,\"5x12\":255,\"5x13\":254,\"5x14\":254,\"5x15\":194,\"5x16\":81,\"5x17\":0,\"5x18\":0,\"5x19\":0,\"5x20\":0,\"5x21\":0,\"5x22\":0,\"5x23\":0,\"5x24\":0,\"5x25\":0,\"5x26\":0,\"5x27\":0,\"5x28\":0,\"6x1\":0,\"6x2\":0,\"6x3\":0,\"6x4\":0,\"6x5\":0,\"6x6\":0,\"6x7\":4,\"6x8\":61,\"6x9\":193,\"6x10\":215,\"6x11\":253,\"6x12\":253,\"6x13\":253,\"6x14\":253,\"6x15\":254,\"6x16\":243,\"6x17\":201,\"6x18\":61,\"6x19\":7,\"6x20\":0,\"6x21\":0,\"6x22\":0,\"6x23\":0,\"6x24\":0,\"6x25\":0,\"6x26\":0,\"6x27\":0,\"6x28\":0,\"7x1\":0,\"7x2\":0,\"7x3\":0,\"7x4\":0,\"7x5\":0,\"7x6\":0,\"7x7\":113,\"7x8\":253,\"7x9\":253,\"7x10\":253,\"7x11\":253,\"7x12\":248,\"7x13\":238,\"7x14\":247,\"7x15\":254,\"7x16\":253,\"7x17\":253,\"7x18\":253,\"7x19\":130,\"7x20\":5,\"7x21\":0,\"7x22\":0,\"7x23\":0,\"7x24\":0,\"7x25\":0,\"7x26\":0,\"7x27\":0,\"7x28\":0,\"8x1\":0,\"8x2\":0,\"8x3\":0,\"8x4\":0,\"8x5\":0,\"8x6\":29,\"8x7\":206,\"8x8\":253,\"8x9\":253,\"8x10\":239,\"8x11\":133,\"8x12\":87,\"8x13\":0,\"8x14\":79,\"8x15\":134,\"8x16\":232,\"8x17\":253,\"8x18\":253,\"8x19\":253,\"8x20\":144,\"8x21\":0,\"8x22\":0,\"8x23\":0,\"8x24\":0,\"8x25\":0,\"8x26\":0,\"8x27\":0,\"8x28\":0,\"9x1\":0,\"9x2\":0,\"9x3\":0,\"9x4\":0,\"9x5\":0,\"9x6\":193,\"9x7\":253,\"9x8\":253,\"9x9\":142,\"9x10\":26,\"9x11\":0,\"9x12\":0,\"9x13\":0,\"9x14\":0,\"9x15\":0,\"9x16\":60,\"9x17\":182,\"9x18\":253,\"9x19\":253,\"9x20\":250,\"9x21\":106,\"9x22\":0,\"9x23\":0,\"9x24\":0,\"9x25\":0,\"9x26\":0,\"9x27\":0,\"9x28\":0,\"10x1\":0,\"10x2\":0,\"10x3\":0,\"10x4\":0,\"10x5\":75,\"10x6\":240,\"10x7\":225,\"10x8\":74,\"10x9\":9,\"10x10\":0,\"10x11\":0,\"10x12\":0,\"10x13\":0,\"10x14\":0,\"10x15\":0,\"10x16\":0,\"10x17\":15,\"10x18\":253,\"10x19\":253,\"10x20\":253,\"10x21\":119,\"10x22\":0,\"10x23\":0,\"10x24\":0,\"10x25\":0,\"10x26\":0,\"10x27\":0,\"10x28\":0,\"11x1\":0,\"11x2\":0,\"11x3\":0,\"11x4\":0,\"11x5\":50,\"11x6\":230,\"11x7\":89,\"11x8\":0,\"11x9\":0,\"11x10\":0,\"11x11\":0,\"11x12\":0,\"11x13\":0,\"11x14\":0,\"11x15\":0,\"11x16\":0,\"11x17\":15,\"11x18\":253,\"11x19\":253,\"11x20\":253,\"11x21\":119,\"11x22\":0,\"11x23\":0,\"11x24\":0,\"11x25\":0,\"11x26\":0,\"11x27\":0,\"11x28\":0,\"12x1\":0,\"12x2\":0,\"12x3\":0,\"12x4\":0,\"12x5\":0,\"12x6\":47,\"12x7\":58,\"12x8\":0,\"12x9\":0,\"12x10\":0,\"12x11\":0,\"12x12\":0,\"12x13\":0,\"12x14\":0,\"12x15\":0,\"12x16\":0,\"12x17\":7,\"12x18\":174,\"12x19\":253,\"12x20\":253,\"12x21\":119,\"12x22\":0,\"12x23\":0,\"12x24\":0,\"12x25\":0,\"12x26\":0,\"12x27\":0,\"12x28\":0,\"13x1\":0,\"13x2\":0,\"13x3\":0,\"13x4\":0,\"13x5\":0,\"13x6\":0,\"13x7\":0,\"13x8\":0,\"13x9\":0,\"13x10\":0,\"13x11\":0,\"13x12\":0,\"13x13\":0,\"13x14\":0,\"13x15\":0,\"13x16\":0,\"13x17\":15,\"13x18\":253,\"13x19\":253,\"13x20\":253,\"13x21\":119,\"13x22\":0,\"13x23\":0,\"13x24\":0,\"13x25\":0,\"13x26\":0,\"13x27\":0,\"13x28\":0,\"14x1\":0,\"14x2\":0,\"14x3\":0,\"14x4\":0,\"14x5\":0,\"14x6\":0,\"14x7\":0,\"14x8\":0,\"14x9\":0,\"14x10\":0,\"14x11\":0,\"14x12\":0,\"14x13\":0,\"14x14\":0,\"14x15\":0,\"14x16\":0,\"14x17\":15,\"14x18\":253,\"14x19\":253,\"14x20\":235,\"14x21\":49,\"14x22\":0,\"14x23\":0,\"14x24\":0,\"14x25\":0,\"14x26\":0,\"14x27\":0,\"14x28\":0,\"15x1\":0,\"15x2\":0,\"15x3\":0,\"15x4\":0,\"15x5\":0,\"15x6\":0,\"15x7\":0,\"15x8\":0,\"15x9\":0,\"15x10\":0,\"15x11\":0,\"15x12\":0,\"15x13\":0,\"15x14\":0,\"15x15\":0,\"15x16\":0,\"15x17\":165,\"15x18\":254,\"15x19\":223,\"15x20\":44,\"15x21\":0,\"15x22\":0,\"15x23\":0,\"15x24\":0,\"15x25\":0,\"15x26\":0,\"15x27\":0,\"15x28\":0,\"16x1\":0,\"16x2\":0,\"16x3\":0,\"16x4\":0,\"16x5\":0,\"16x6\":0,\"16x7\":0,\"16x8\":0,\"16x9\":0,\"16x10\":0,\"16x11\":0,\"16x12\":0,\"16x13\":0,\"16x14\":0,\"16x15\":0,\"16x16\":173,\"16x17\":238,\"16x18\":253,\"16x19\":178,\"16x20\":0,\"16x21\":0,\"16x22\":0,\"16x23\":0,\"16x24\":0,\"16x25\":0,\"16x26\":0,\"16x27\":0,\"16x28\":0,\"17x1\":0,\"17x2\":0,\"17x3\":0,\"17x4\":0,\"17x5\":0,\"17x6\":0,\"17x7\":0,\"17x8\":0,\"17x9\":0,\"17x10\":0,\"17x11\":0,\"17x12\":0,\"17x13\":0,\"17x14\":0,\"17x15\":78,\"17x16\":238,\"17x17\":253,\"17x18\":253,\"17x19\":81,\"17x20\":0,\"17x21\":0,\"17x22\":0,\"17x23\":0,\"17x24\":0,\"17x25\":0,\"17x26\":0,\"17x27\":0,\"17x28\":0,\"18x1\":0,\"18x2\":0,\"18x3\":0,\"18x4\":0,\"18x5\":0,\"18x6\":0,\"18x7\":0,\"18x8\":0,\"18x9\":0,\"18x10\":0,\"18x11\":0,\"18x12\":0,\"18x13\":0,\"18x14\":72,\"18x15\":254,\"18x16\":253,\"18x17\":246,\"18x18\":133,\"18x19\":16,\"18x20\":0,\"18x21\":0,\"18x22\":0,\"18x23\":0,\"18x24\":0,\"18x25\":0,\"18x26\":0,\"18x27\":0,\"18x28\":0,\"19x1\":0,\"19x2\":0,\"19x3\":0,\"19x4\":0,\"19x5\":0,\"19x6\":0,\"19x7\":0,\"19x8\":0,\"19x9\":67,\"19x10\":181,\"19x11\":224,\"19x12\":224,\"19x13\":224,\"19x14\":241,\"19x15\":254,\"19x16\":253,\"19x17\":242,\"19x18\":75,\"19x19\":53,\"19x20\":0,\"19x21\":0,\"19x22\":0,\"19x23\":0,\"19x24\":0,\"19x25\":0,\"19x26\":0,\"19x27\":0,\"19x28\":0,\"20x1\":0,\"20x2\":0,\"20x3\":0,\"20x4\":0,\"20x5\":0,\"20x6\":0,\"20x7\":118,\"20x8\":179,\"20x9\":245,\"20x10\":253,\"20x11\":253,\"20x12\":253,\"20x13\":253,\"20x14\":253,\"20x15\":255,\"20x16\":253,\"20x17\":253,\"20x18\":253,\"20x19\":231,\"20x20\":179,\"20x21\":179,\"20x22\":38,\"20x23\":7,\"20x24\":0,\"20x25\":0,\"20x26\":0,\"20x27\":0,\"20x28\":0,\"21x1\":0,\"21x2\":0,\"21x3\":0,\"21x4\":0,\"21x5\":0,\"21x6\":0,\"21x7\":164,\"21x8\":253,\"21x9\":253,\"21x10\":253,\"21x11\":253,\"21x12\":253,\"21x13\":253,\"21x14\":253,\"21x15\":254,\"21x16\":253,\"21x17\":253,\"21x18\":253,\"21x19\":253,\"21x20\":253,\"21x21\":253,\"21x22\":253,\"21x23\":138,\"21x24\":0,\"21x25\":0,\"21x26\":0,\"21x27\":0,\"21x28\":0,\"22x1\":0,\"22x2\":0,\"22x3\":0,\"22x4\":0,\"22x5\":0,\"22x6\":0,\"22x7\":165,\"22x8\":253,\"22x9\":253,\"22x10\":253,\"22x11\":253,\"22x12\":253,\"22x13\":184,\"22x14\":75,\"22x15\":14,\"22x16\":137,\"22x17\":168,\"22x18\":253,\"22x19\":253,\"22x20\":253,\"22x21\":253,\"22x22\":253,\"22x23\":251,\"22x24\":98,\"22x25\":0,\"22x26\":0,\"22x27\":0,\"22x28\":0,\"23x1\":0,\"23x2\":0,\"23x3\":0,\"23x4\":0,\"23x5\":0,\"23x6\":0,\"23x7\":39,\"23x8\":59,\"23x9\":191,\"23x10\":208,\"23x11\":208,\"23x12\":67,\"23x13\":14,\"23x14\":0,\"23x15\":0,\"23x16\":0,\"23x17\":4,\"23x18\":59,\"23x19\":103,\"23x20\":208,\"23x21\":232,\"23x22\":253,\"23x23\":253,\"23x24\":104,\"23x25\":0,\"23x26\":0,\"23x27\":0,\"23x28\":0,\"24x1\":0,\"24x2\":0,\"24x3\":0,\"24x4\":0,\"24x5\":0,\"24x6\":0,\"24x7\":0,\"24x8\":0,\"24x9\":0,\"24x10\":0,\"24x11\":0,\"24x12\":0,\"24x13\":0,\"24x14\":0,\"24x15\":0,\"24x16\":0,\"24x17\":0,\"24x18\":0,\"24x19\":0,\"24x20\":0,\"24x21\":134,\"24x22\":253,\"24x23\":253,\"24x24\":104,\"24x25\":0,\"24x26\":0,\"24x27\":0,\"24x28\":0,\"25x1\":0,\"25x2\":0,\"25x3\":0,\"25x4\":0,\"25x5\":0,\"25x6\":0,\"25x7\":0,\"25x8\":0,\"25x9\":0,\"25x10\":0,\"25x11\":0,\"25x12\":0,\"25x13\":0,\"25x14\":0,\"25x15\":0,\"25x16\":0,\"25x17\":0,\"25x18\":0,\"25x19\":0,\"25x20\":0,\"25x21\":0,\"25x22\":0,\"25x23\":0,\"25x24\":0,\"25x25\":0,\"25x26\":0,\"25x27\":0,\"25x28\":0,\"26x1\":0,\"26x2\":0,\"26x3\":0,\"26x4\":0,\"26x5\":0,\"26x6\":0,\"26x7\":0,\"26x8\":0,\"26x9\":0,\"26x10\":0,\"26x11\":0,\"26x12\":0,\"26x13\":0,\"26x14\":0,\"26x15\":0,\"26x16\":0,\"26x17\":0,\"26x18\":0,\"26x19\":0,\"26x20\":0,\"26x21\":0,\"26x22\":0,\"26x23\":0,\"26x24\":0,\"26x25\":0,\"26x26\":0,\"26x27\":0,\"26x28\":0,\"27x1\":0,\"27x2\":0,\"27x3\":0,\"27x4\":0,\"27x5\":0,\"27x6\":0,\"27x7\":0,\"27x8\":0,\"27x9\":0,\"27x10\":0,\"27x11\":0,\"27x12\":0,\"27x13\":0,\"27x14\":0,\"27x15\":0,\"27x16\":0,\"27x17\":0,\"27x18\":0,\"27x19\":0,\"27x20\":0,\"27x21\":0,\"27x22\":0,\"27x23\":0,\"27x24\":0,\"27x25\":0,\"27x26\":0,\"27x27\":0,\"27x28\":0,\"28x1\":0,\"28x2\":0,\"28x3\":0,\"28x4\":0,\"28x5\":0,\"28x6\":0,\"28x7\":0,\"28x8\":0,\"28x9\":0,\"28x10\":0,\"28x11\":0,\"28x12\":0,\"28x13\":0,\"28x14\":0,\"28x15\":0,\"28x16\":0,\"28x17\":0,\"28x18\":0,\"28x19\":0,\"28x20\":0,\"28x21\":0,\"28x22\":0,\"28x23\":0,\"28x24\":0,\"28x25\":0,\"28x26\":0,\"28x27\":0,\"28x28\":0,\"groundtruth\":\"2\"}\n",
      "{\"1x1\":0,\"1x2\":0,\"1x3\":0,\"1x4\":0,\"1x5\":0,\"1x6\":0,\"1x7\":0,\"1x8\":0,\"1x9\":0,\"1x10\":0,\"1x11\":0,\"1x12\":0,\"1x13\":0,\"1x14\":0,\"1x15\":0,\"1x16\":0,\"1x17\":0,\"1x18\":0,\"1x19\":0,\"1x20\":0,\"1x21\":0,\"1x22\":0,\"1x23\":0,\"1x24\":0,\"1x25\":0,\"1x26\":0,\"1x27\":0,\"1x28\":0,\"2x1\":0,\"2x2\":0,\"2x3\":0,\"2x4\":0,\"2x5\":0,\"2x6\":0,\"2x7\":0,\"2x8\":0,\"2x9\":0,\"2x10\":0,\"2x11\":0,\"2x12\":0,\"2x13\":0,\"2x14\":0,\"2x15\":0,\"2x16\":0,\"2x17\":0,\"2x18\":0,\"2x19\":0,\"2x20\":0,\"2x21\":0,\"2x22\":0,\"2x23\":0,\"2x24\":0,\"2x25\":0,\"2x26\":0,\"2x27\":0,\"2x28\":0,\"3x1\":0,\"3x2\":0,\"3x3\":0,\"3x4\":0,\"3x5\":0,\"3x6\":0,\"3x7\":0,\"3x8\":0,\"3x9\":0,\"3x10\":0,\"3x11\":0,\"3x12\":0,\"3x13\":0,\"3x14\":0,\"3x15\":0,\"3x16\":0,\"3x17\":0,\"3x18\":0,\"3x19\":0,\"3x20\":0,\"3x21\":0,\"3x22\":0,\"3x23\":0,\"3x24\":0,\"3x25\":0,\"3x26\":0,\"3x27\":0,\"3x28\":0,\"4x1\":0,\"4x2\":0,\"4x3\":0,\"4x4\":0,\"4x5\":0,\"4x6\":0,\"4x7\":0,\"4x8\":0,\"4x9\":0,\"4x10\":0,\"4x11\":0,\"4x12\":0,\"4x13\":0,\"4x14\":0,\"4x15\":0,\"4x16\":0,\"4x17\":0,\"4x18\":0,\"4x19\":0,\"4x20\":0,\"4x21\":0,\"4x22\":0,\"4x23\":0,\"4x24\":0,\"4x25\":0,\"4x26\":0,\"4x27\":0,\"4x28\":0,\"5x1\":0,\"5x2\":0,\"5x3\":0,\"5x4\":0,\"5x5\":0,\"5x6\":0,\"5x7\":0,\"5x8\":0,\"5x9\":0,\"5x10\":0,\"5x11\":0,\"5x12\":0,\"5x13\":0,\"5x14\":0,\"5x15\":85,\"5x16\":254,\"5x17\":255,\"5x18\":245,\"5x19\":101,\"5x20\":76,\"5x21\":0,\"5x22\":0,\"5x23\":0,\"5x24\":0,\"5x25\":0,\"5x26\":0,\"5x27\":0,\"5x28\":0,\"6x1\":0,\"6x2\":0,\"6x3\":0,\"6x4\":0,\"6x5\":0,\"6x6\":0,\"6x7\":0,\"6x8\":0,\"6x9\":0,\"6x10\":0,\"6x11\":0,\"6x12\":0,\"6x13\":0,\"6x14\":48,\"6x15\":223,\"6x16\":253,\"6x17\":253,\"6x18\":253,\"6x19\":253,\"6x20\":202,\"6x21\":47,\"6x22\":27,\"6x23\":0,\"6x24\":0,\"6x25\":0,\"6x26\":0,\"6x27\":0,\"6x28\":0,\"7x1\":0,\"7x2\":0,\"7x3\":0,\"7x4\":0,\"7x5\":0,\"7x6\":0,\"7x7\":0,\"7x8\":0,\"7x9\":0,\"7x10\":0,\"7x11\":0,\"7x12\":0,\"7x13\":0,\"7x14\":0,\"7x15\":177,\"7x16\":253,\"7x17\":253,\"7x18\":253,\"7x19\":253,\"7x20\":253,\"7x21\":253,\"7x22\":207,\"7x23\":26,\"7x24\":0,\"7x25\":0,\"7x26\":0,\"7x27\":0,\"7x28\":0,\"8x1\":0,\"8x2\":0,\"8x3\":0,\"8x4\":0,\"8x5\":0,\"8x6\":0,\"8x7\":0,\"8x8\":0,\"8x9\":0,\"8x10\":0,\"8x11\":0,\"8x12\":0,\"8x13\":0,\"8x14\":226,\"8x15\":251,\"8x16\":253,\"8x17\":185,\"8x18\":7,\"8x19\":120,\"8x20\":253,\"8x21\":253,\"8x22\":253,\"8x23\":45,\"8x24\":0,\"8x25\":0,\"8x26\":0,\"8x27\":0,\"8x28\":0,\"9x1\":0,\"9x2\":0,\"9x3\":0,\"9x4\":0,\"9x5\":0,\"9x6\":0,\"9x7\":0,\"9x8\":0,\"9x9\":0,\"9x10\":0,\"9x11\":0,\"9x12\":48,\"9x13\":193,\"9x14\":248,\"9x15\":249,\"9x16\":214,\"9x17\":62,\"9x18\":0,\"9x19\":28,\"9x20\":225,\"9x21\":253,\"9x22\":253,\"9x23\":69,\"9x24\":0,\"9x25\":0,\"9x26\":0,\"9x27\":0,\"9x28\":0,\"10x1\":0,\"10x2\":0,\"10x3\":0,\"10x4\":0,\"10x5\":0,\"10x6\":0,\"10x7\":0,\"10x8\":0,\"10x9\":0,\"10x10\":0,\"10x11\":47,\"10x12\":222,\"10x13\":253,\"10x14\":253,\"10x15\":230,\"10x16\":0,\"10x17\":0,\"10x18\":0,\"10x19\":0,\"10x20\":131,\"10x21\":253,\"10x22\":253,\"10x23\":199,\"10x24\":0,\"10x25\":0,\"10x26\":0,\"10x27\":0,\"10x28\":0,\"11x1\":0,\"11x2\":0,\"11x3\":0,\"11x4\":0,\"11x5\":0,\"11x6\":0,\"11x7\":0,\"11x8\":0,\"11x9\":37,\"11x10\":239,\"11x11\":244,\"11x12\":253,\"11x13\":253,\"11x14\":128,\"11x15\":13,\"11x16\":0,\"11x17\":0,\"11x18\":0,\"11x19\":0,\"11x20\":207,\"11x21\":253,\"11x22\":253,\"11x23\":54,\"11x24\":0,\"11x25\":0,\"11x26\":0,\"11x27\":0,\"11x28\":0,\"12x1\":0,\"12x2\":0,\"12x3\":0,\"12x4\":0,\"12x5\":0,\"12x6\":0,\"12x7\":0,\"12x8\":0,\"12x9\":58,\"12x10\":253,\"12x11\":253,\"12x12\":253,\"12x13\":157,\"12x14\":6,\"12x15\":0,\"12x16\":0,\"12x17\":0,\"12x18\":0,\"12x19\":0,\"12x20\":216,\"12x21\":253,\"12x22\":253,\"12x23\":45,\"12x24\":0,\"12x25\":0,\"12x26\":0,\"12x27\":0,\"12x28\":0,\"13x1\":0,\"13x2\":0,\"13x3\":0,\"13x4\":0,\"13x5\":0,\"13x6\":0,\"13x7\":0,\"13x8\":49,\"13x9\":224,\"13x10\":253,\"13x11\":253,\"13x12\":237,\"13x13\":59,\"13x14\":0,\"13x15\":0,\"13x16\":0,\"13x17\":0,\"13x18\":0,\"13x19\":0,\"13x20\":216,\"13x21\":253,\"13x22\":253,\"13x23\":45,\"13x24\":0,\"13x25\":0,\"13x26\":0,\"13x27\":0,\"13x28\":0,\"14x1\":0,\"14x2\":0,\"14x3\":0,\"14x4\":0,\"14x5\":0,\"14x6\":0,\"14x7\":0,\"14x8\":234,\"14x9\":253,\"14x10\":253,\"14x11\":227,\"14x12\":61,\"14x13\":0,\"14x14\":0,\"14x15\":0,\"14x16\":0,\"14x17\":0,\"14x18\":0,\"14x19\":36,\"14x20\":227,\"14x21\":253,\"14x22\":253,\"14x23\":45,\"14x24\":0,\"14x25\":0,\"14x26\":0,\"14x27\":0,\"14x28\":0,\"15x1\":0,\"15x2\":0,\"15x3\":0,\"15x4\":0,\"15x5\":0,\"15x6\":0,\"15x7\":103,\"15x8\":251,\"15x9\":253,\"15x10\":253,\"15x11\":154,\"15x12\":0,\"15x13\":0,\"15x14\":0,\"15x15\":0,\"15x16\":0,\"15x17\":0,\"15x18\":11,\"15x19\":212,\"15x20\":253,\"15x21\":253,\"15x22\":243,\"15x23\":41,\"15x24\":0,\"15x25\":0,\"15x26\":0,\"15x27\":0,\"15x28\":0,\"16x1\":0,\"16x2\":0,\"16x3\":0,\"16x4\":0,\"16x5\":0,\"16x6\":0,\"16x7\":146,\"16x8\":253,\"16x9\":253,\"16x10\":253,\"16x11\":14,\"16x12\":0,\"16x13\":0,\"16x14\":0,\"16x15\":0,\"16x16\":0,\"16x17\":0,\"16x18\":16,\"16x19\":253,\"16x20\":253,\"16x21\":253,\"16x22\":198,\"16x23\":22,\"16x24\":0,\"16x25\":0,\"16x26\":0,\"16x27\":0,\"16x28\":0,\"17x1\":0,\"17x2\":0,\"17x3\":0,\"17x4\":0,\"17x5\":0,\"17x6\":41,\"17x7\":241,\"17x8\":253,\"17x9\":253,\"17x10\":130,\"17x11\":2,\"17x12\":0,\"17x13\":0,\"17x14\":0,\"17x15\":0,\"17x16\":0,\"17x17\":0,\"17x18\":58,\"17x19\":253,\"17x20\":253,\"17x21\":253,\"17x22\":223,\"17x23\":33,\"17x24\":0,\"17x25\":0,\"17x26\":0,\"17x27\":0,\"17x28\":0,\"18x1\":0,\"18x2\":0,\"18x3\":0,\"18x4\":0,\"18x5\":0,\"18x6\":47,\"18x7\":253,\"18x8\":253,\"18x9\":253,\"18x10\":115,\"18x11\":0,\"18x12\":0,\"18x13\":0,\"18x14\":0,\"18x15\":0,\"18x16\":0,\"18x17\":57,\"18x18\":225,\"18x19\":253,\"18x20\":253,\"18x21\":238,\"18x22\":48,\"18x23\":0,\"18x24\":0,\"18x25\":0,\"18x26\":0,\"18x27\":0,\"18x28\":0,\"19x1\":0,\"19x2\":0,\"19x3\":0,\"19x4\":0,\"19x5\":0,\"19x6\":47,\"19x7\":253,\"19x8\":253,\"19x9\":235,\"19x10\":63,\"19x11\":0,\"19x12\":0,\"19x13\":0,\"19x14\":0,\"19x15\":11,\"19x16\":116,\"19x17\":237,\"19x18\":253,\"19x19\":253,\"19x20\":225,\"19x21\":50,\"19x22\":0,\"19x23\":0,\"19x24\":0,\"19x25\":0,\"19x26\":0,\"19x27\":0,\"19x28\":0,\"20x1\":0,\"20x2\":0,\"20x3\":0,\"20x4\":0,\"20x5\":0,\"20x6\":85,\"20x7\":253,\"20x8\":253,\"20x9\":238,\"20x10\":70,\"20x11\":21,\"20x12\":81,\"20x13\":216,\"20x14\":216,\"20x15\":219,\"20x16\":253,\"20x17\":253,\"20x18\":249,\"20x19\":121,\"20x20\":29,\"20x21\":0,\"20x22\":0,\"20x23\":0,\"20x24\":0,\"20x25\":0,\"20x26\":0,\"20x27\":0,\"20x28\":0,\"21x1\":0,\"21x2\":0,\"21x3\":0,\"21x4\":0,\"21x5\":0,\"21x6\":200,\"21x7\":253,\"21x8\":253,\"21x9\":239,\"21x10\":162,\"21x11\":192,\"21x12\":253,\"21x13\":253,\"21x14\":253,\"21x15\":253,\"21x16\":253,\"21x17\":246,\"21x18\":136,\"21x19\":0,\"21x20\":0,\"21x21\":0,\"21x22\":0,\"21x23\":0,\"21x24\":0,\"21x25\":0,\"21x26\":0,\"21x27\":0,\"21x28\":0,\"22x1\":0,\"22x2\":0,\"22x3\":0,\"22x4\":0,\"22x5\":0,\"22x6\":200,\"22x7\":253,\"22x8\":253,\"22x9\":253,\"22x10\":253,\"22x11\":253,\"22x12\":253,\"22x13\":253,\"22x14\":253,\"22x15\":253,\"22x16\":200,\"22x17\":17,\"22x18\":0,\"22x19\":0,\"22x20\":0,\"22x21\":0,\"22x22\":0,\"22x23\":0,\"22x24\":0,\"22x25\":0,\"22x26\":0,\"22x27\":0,\"22x28\":0,\"23x1\":0,\"23x2\":0,\"23x3\":0,\"23x4\":0,\"23x5\":0,\"23x6\":64,\"23x7\":199,\"23x8\":252,\"23x9\":253,\"23x10\":253,\"23x11\":253,\"23x12\":253,\"23x13\":225,\"23x14\":199,\"23x15\":91,\"23x16\":23,\"23x17\":0,\"23x18\":0,\"23x19\":0,\"23x20\":0,\"23x21\":0,\"23x22\":0,\"23x23\":0,\"23x24\":0,\"23x25\":0,\"23x26\":0,\"23x27\":0,\"23x28\":0,\"24x1\":0,\"24x2\":0,\"24x3\":0,\"24x4\":0,\"24x5\":0,\"24x6\":0,\"24x7\":0,\"24x8\":97,\"24x9\":123,\"24x10\":253,\"24x11\":201,\"24x12\":99,\"24x13\":48,\"24x14\":0,\"24x15\":0,\"24x16\":0,\"24x17\":0,\"24x18\":0,\"24x19\":0,\"24x20\":0,\"24x21\":0,\"24x22\":0,\"24x23\":0,\"24x24\":0,\"24x25\":0,\"24x26\":0,\"24x27\":0,\"24x28\":0,\"25x1\":0,\"25x2\":0,\"25x3\":0,\"25x4\":0,\"25x5\":0,\"25x6\":0,\"25x7\":0,\"25x8\":0,\"25x9\":0,\"25x10\":0,\"25x11\":0,\"25x12\":0,\"25x13\":0,\"25x14\":0,\"25x15\":0,\"25x16\":0,\"25x17\":0,\"25x18\":0,\"25x19\":0,\"25x20\":0,\"25x21\":0,\"25x22\":0,\"25x23\":0,\"25x24\":0,\"25x25\":0,\"25x26\":0,\"25x27\":0,\"25x28\":0,\"26x1\":0,\"26x2\":0,\"26x3\":0,\"26x4\":0,\"26x5\":0,\"26x6\":0,\"26x7\":0,\"26x8\":0,\"26x9\":0,\"26x10\":0,\"26x11\":0,\"26x12\":0,\"26x13\":0,\"26x14\":0,\"26x15\":0,\"26x16\":0,\"26x17\":0,\"26x18\":0,\"26x19\":0,\"26x20\":0,\"26x21\":0,\"26x22\":0,\"26x23\":0,\"26x24\":0,\"26x25\":0,\"26x26\":0,\"26x27\":0,\"26x28\":0,\"27x1\":0,\"27x2\":0,\"27x3\":0,\"27x4\":0,\"27x5\":0,\"27x6\":0,\"27x7\":0,\"27x8\":0,\"27x9\":0,\"27x10\":0,\"27x11\":0,\"27x12\":0,\"27x13\":0,\"27x14\":0,\"27x15\":0,\"27x16\":0,\"27x17\":0,\"27x18\":0,\"27x19\":0,\"27x20\":0,\"27x21\":0,\"27x22\":0,\"27x23\":0,\"27x24\":0,\"27x25\":0,\"27x26\":0,\"27x27\":0,\"27x28\":0,\"28x1\":0,\"28x2\":0,\"28x3\":0,\"28x4\":0,\"28x5\":0,\"28x6\":0,\"28x7\":0,\"28x8\":0,\"28x9\":0,\"28x10\":0,\"28x11\":0,\"28x12\":0,\"28x13\":0,\"28x14\":0,\"28x15\":0,\"28x16\":0,\"28x17\":0,\"28x18\":0,\"28x19\":0,\"28x20\":0,\"28x21\":0,\"28x22\":0,\"28x23\":0,\"28x24\":0,\"28x25\":0,\"28x26\":0,\"28x27\":0,\"28x28\":0,\"groundtruth\":\"0\"}\n"
     ]
    }
   ],
   "source": [
    "from mnist_preprocessor import preprocess\n",
    "import tempfile\n",
    "import os\n",
    "\n",
    "def print_baseline(split_name):\n",
    "    print()\n",
    "    print(f\"Baseline {split_name}:\")\n",
    "    with open(Path(directory) / f\"{split_name}-baseline\" / f\"{split_name}-baseline.json\") as baseline:\n",
    "        lines = [next(baseline) for _ in range(2)]\n",
    "        \n",
    "    for l in lines:\n",
    "        print(l[:-1])\n",
    "    \n",
    "\n",
    "with tempfile.TemporaryDirectory() as directory:\n",
    "    print (f\"directory is {directory}\")\n",
    "    preprocess(\n",
    "        base_dir=directory, \n",
    "        data_filepath=LOCAL_FILEPATH\n",
    "    )\n",
    "    \n",
    "    print(f\"Folders: {os.listdir(directory)}\")\n",
    "    \n",
    "    #print_baseline(\"train\")\n",
    "    print_baseline(\"test\")"
   ]
  },
  {
   "cell_type": "markdown",
   "id": "9b90802b-6b73-4b94-b2d6-2401af462f24",
   "metadata": {},
   "source": [
    "## Step 5 - Pipeline Configuration"
   ]
  },
  {
   "cell_type": "code",
   "execution_count": 20,
   "id": "85ff7ae7-d8ae-4c77-9497-fc64ad8f1e50",
   "metadata": {
    "tags": []
   },
   "outputs": [],
   "source": [
    "dataset_location = ParameterString(\n",
    "    name=\"dataset_location\",\n",
    "    default_value=INPUT_DATA_URI,\n",
    ")\n",
    "\n",
    "preprocessor_destination = ParameterString(\n",
    "    name=\"preprocessor_destination\",\n",
    "    default_value=f\"{S3_FILEPATH}/preprocessing\",\n",
    ")\n",
    "\n",
    "train_dataset_baseline_destination = ParameterString(\n",
    "    name=\"train_dataset_baseline_destination\",\n",
    "    default_value=f\"{S3_FILEPATH}/preprocessing/baselines/train\",\n",
    ")\n",
    "\n",
    "test_dataset_baseline_destination = ParameterString(\n",
    "    name=\"test_dataset_baseline_destination\",\n",
    "    default_value=f\"{S3_FILEPATH}/preprocessing/baselines/test\",\n",
    ")\n",
    "\n",
    "timestamp_signature = ParameterString(\n",
    "    name=\"timestamp_signature\",\n",
    "    default_value=\"\",\n",
    ")"
   ]
  },
  {
   "cell_type": "markdown",
   "id": "6e4b0dd3-6f2a-4de3-b621-2fd68002c496",
   "metadata": {},
   "source": [
    "## Step 6 - Caching Pipeline Steps"
   ]
  },
  {
   "cell_type": "code",
   "execution_count": 21,
   "id": "b0b35f5d-8c56-4eab-822c-906a085089d7",
   "metadata": {
    "tags": []
   },
   "outputs": [],
   "source": [
    "cache_config = CacheConfig(\n",
    "    enable_caching=True, \n",
    "    expire_after=\"15d\"\n",
    ")"
   ]
  },
  {
   "cell_type": "markdown",
   "id": "cc840e34-89b3-42ac-b582-90c6d88f69d7",
   "metadata": {
    "tags": []
   },
   "source": [
    "## Step 7 - Setting up a Processing Step"
   ]
  },
  {
   "cell_type": "code",
   "execution_count": 23,
   "id": "c64a021b-f7ab-4b53-8f73-6b9f92bc8fa3",
   "metadata": {
    "tags": []
   },
   "outputs": [],
   "source": [
    "sklearn_processor = SKLearnProcessor(\n",
    "    base_job_name=\"mnist-preprocessing\",\n",
    "    framework_version=\"0.23-1\",\n",
    "    instance_type=\"ml.t3.medium\",\n",
    "    instance_count=1,\n",
    "    role=role,\n",
    ")"
   ]
  },
  {
   "cell_type": "code",
   "execution_count": 26,
   "id": "929adbe5-ae9f-444a-ad99-43ae045a20ce",
   "metadata": {
    "tags": []
   },
   "outputs": [],
   "source": [
    "preprocess_step = ProcessingStep(\n",
    "    name=\"preprocessing\",\n",
    "    processor=sklearn_processor,\n",
    "    inputs=[\n",
    "        ProcessingInput(source=dataset_location, destination=\"/opt/ml/processing/input\"),  \n",
    "    ],\n",
    "    outputs=[\n",
    "        ProcessingOutput(output_name=\"train\", source=\"/opt/ml/processing/train\", destination=preprocessor_destination),\n",
    "        ProcessingOutput(output_name=\"validation\", source=\"/opt/ml/processing/validation\", destination=preprocessor_destination),\n",
    "        ProcessingOutput(output_name=\"test\", source=\"/opt/ml/processing/test\", destination=preprocessor_destination),\n",
    "        ProcessingOutput(output_name=\"pipeline\", source=\"/opt/ml/processing/pipeline\", destination=preprocessor_destination),\n",
    "        ProcessingOutput(output_name=\"train-baseline\", source=\"/opt/ml/processing/train-baseline\", destination=train_dataset_baseline_destination),\n",
    "        ProcessingOutput(output_name=\"test-baseline\", source=\"/opt/ml/processing/test-baseline\", destination=test_dataset_baseline_destination),\n",
    "    ],\n",
    "    code=f\"{MNIST_FOLDER}/mnist_preprocessor.py\",\n",
    "    cache_config=cache_config\n",
    ")"
   ]
  },
  {
   "cell_type": "markdown",
   "id": "61154681-1c3e-4b02-bb46-778137144049",
   "metadata": {},
   "source": [
    "## Step 8 - Running the Pipeline"
   ]
  },
  {
   "cell_type": "code",
   "execution_count": 28,
   "id": "2ff1eea1-a0fd-4e0b-b50c-bdfac3c3c890",
   "metadata": {
    "tags": []
   },
   "outputs": [],
   "source": [
    "session1_pipeline = Pipeline(\n",
    "    name=\"mnist-session1-pipeline\",\n",
    "    parameters=[\n",
    "        dataset_location, \n",
    "        preprocessor_destination,\n",
    "        train_dataset_baseline_destination,\n",
    "        test_dataset_baseline_destination\n",
    "    ],\n",
    "    steps=[\n",
    "        preprocess_step, \n",
    "    ]\n",
    ")"
   ]
  },
  {
   "cell_type": "code",
   "execution_count": null,
   "id": "07675fe4-a2c8-43d5-b835-8ec87c31a92a",
   "metadata": {},
   "outputs": [],
   "source": []
  }
 ],
 "metadata": {
  "availableInstances": [
   {
    "_defaultOrder": 0,
    "_isFastLaunch": true,
    "category": "General purpose",
    "gpuNum": 0,
    "hideHardwareSpecs": false,
    "memoryGiB": 4,
    "name": "ml.t3.medium",
    "vcpuNum": 2
   },
   {
    "_defaultOrder": 1,
    "_isFastLaunch": false,
    "category": "General purpose",
    "gpuNum": 0,
    "hideHardwareSpecs": false,
    "memoryGiB": 8,
    "name": "ml.t3.large",
    "vcpuNum": 2
   },
   {
    "_defaultOrder": 2,
    "_isFastLaunch": false,
    "category": "General purpose",
    "gpuNum": 0,
    "hideHardwareSpecs": false,
    "memoryGiB": 16,
    "name": "ml.t3.xlarge",
    "vcpuNum": 4
   },
   {
    "_defaultOrder": 3,
    "_isFastLaunch": false,
    "category": "General purpose",
    "gpuNum": 0,
    "hideHardwareSpecs": false,
    "memoryGiB": 32,
    "name": "ml.t3.2xlarge",
    "vcpuNum": 8
   },
   {
    "_defaultOrder": 4,
    "_isFastLaunch": true,
    "category": "General purpose",
    "gpuNum": 0,
    "hideHardwareSpecs": false,
    "memoryGiB": 8,
    "name": "ml.m5.large",
    "vcpuNum": 2
   },
   {
    "_defaultOrder": 5,
    "_isFastLaunch": false,
    "category": "General purpose",
    "gpuNum": 0,
    "hideHardwareSpecs": false,
    "memoryGiB": 16,
    "name": "ml.m5.xlarge",
    "vcpuNum": 4
   },
   {
    "_defaultOrder": 6,
    "_isFastLaunch": false,
    "category": "General purpose",
    "gpuNum": 0,
    "hideHardwareSpecs": false,
    "memoryGiB": 32,
    "name": "ml.m5.2xlarge",
    "vcpuNum": 8
   },
   {
    "_defaultOrder": 7,
    "_isFastLaunch": false,
    "category": "General purpose",
    "gpuNum": 0,
    "hideHardwareSpecs": false,
    "memoryGiB": 64,
    "name": "ml.m5.4xlarge",
    "vcpuNum": 16
   },
   {
    "_defaultOrder": 8,
    "_isFastLaunch": false,
    "category": "General purpose",
    "gpuNum": 0,
    "hideHardwareSpecs": false,
    "memoryGiB": 128,
    "name": "ml.m5.8xlarge",
    "vcpuNum": 32
   },
   {
    "_defaultOrder": 9,
    "_isFastLaunch": false,
    "category": "General purpose",
    "gpuNum": 0,
    "hideHardwareSpecs": false,
    "memoryGiB": 192,
    "name": "ml.m5.12xlarge",
    "vcpuNum": 48
   },
   {
    "_defaultOrder": 10,
    "_isFastLaunch": false,
    "category": "General purpose",
    "gpuNum": 0,
    "hideHardwareSpecs": false,
    "memoryGiB": 256,
    "name": "ml.m5.16xlarge",
    "vcpuNum": 64
   },
   {
    "_defaultOrder": 11,
    "_isFastLaunch": false,
    "category": "General purpose",
    "gpuNum": 0,
    "hideHardwareSpecs": false,
    "memoryGiB": 384,
    "name": "ml.m5.24xlarge",
    "vcpuNum": 96
   },
   {
    "_defaultOrder": 12,
    "_isFastLaunch": false,
    "category": "General purpose",
    "gpuNum": 0,
    "hideHardwareSpecs": false,
    "memoryGiB": 8,
    "name": "ml.m5d.large",
    "vcpuNum": 2
   },
   {
    "_defaultOrder": 13,
    "_isFastLaunch": false,
    "category": "General purpose",
    "gpuNum": 0,
    "hideHardwareSpecs": false,
    "memoryGiB": 16,
    "name": "ml.m5d.xlarge",
    "vcpuNum": 4
   },
   {
    "_defaultOrder": 14,
    "_isFastLaunch": false,
    "category": "General purpose",
    "gpuNum": 0,
    "hideHardwareSpecs": false,
    "memoryGiB": 32,
    "name": "ml.m5d.2xlarge",
    "vcpuNum": 8
   },
   {
    "_defaultOrder": 15,
    "_isFastLaunch": false,
    "category": "General purpose",
    "gpuNum": 0,
    "hideHardwareSpecs": false,
    "memoryGiB": 64,
    "name": "ml.m5d.4xlarge",
    "vcpuNum": 16
   },
   {
    "_defaultOrder": 16,
    "_isFastLaunch": false,
    "category": "General purpose",
    "gpuNum": 0,
    "hideHardwareSpecs": false,
    "memoryGiB": 128,
    "name": "ml.m5d.8xlarge",
    "vcpuNum": 32
   },
   {
    "_defaultOrder": 17,
    "_isFastLaunch": false,
    "category": "General purpose",
    "gpuNum": 0,
    "hideHardwareSpecs": false,
    "memoryGiB": 192,
    "name": "ml.m5d.12xlarge",
    "vcpuNum": 48
   },
   {
    "_defaultOrder": 18,
    "_isFastLaunch": false,
    "category": "General purpose",
    "gpuNum": 0,
    "hideHardwareSpecs": false,
    "memoryGiB": 256,
    "name": "ml.m5d.16xlarge",
    "vcpuNum": 64
   },
   {
    "_defaultOrder": 19,
    "_isFastLaunch": false,
    "category": "General purpose",
    "gpuNum": 0,
    "hideHardwareSpecs": false,
    "memoryGiB": 384,
    "name": "ml.m5d.24xlarge",
    "vcpuNum": 96
   },
   {
    "_defaultOrder": 20,
    "_isFastLaunch": false,
    "category": "General purpose",
    "gpuNum": 0,
    "hideHardwareSpecs": true,
    "memoryGiB": 0,
    "name": "ml.geospatial.interactive",
    "supportedImageNames": [
     "sagemaker-geospatial-v1-0"
    ],
    "vcpuNum": 0
   },
   {
    "_defaultOrder": 21,
    "_isFastLaunch": true,
    "category": "Compute optimized",
    "gpuNum": 0,
    "hideHardwareSpecs": false,
    "memoryGiB": 4,
    "name": "ml.c5.large",
    "vcpuNum": 2
   },
   {
    "_defaultOrder": 22,
    "_isFastLaunch": false,
    "category": "Compute optimized",
    "gpuNum": 0,
    "hideHardwareSpecs": false,
    "memoryGiB": 8,
    "name": "ml.c5.xlarge",
    "vcpuNum": 4
   },
   {
    "_defaultOrder": 23,
    "_isFastLaunch": false,
    "category": "Compute optimized",
    "gpuNum": 0,
    "hideHardwareSpecs": false,
    "memoryGiB": 16,
    "name": "ml.c5.2xlarge",
    "vcpuNum": 8
   },
   {
    "_defaultOrder": 24,
    "_isFastLaunch": false,
    "category": "Compute optimized",
    "gpuNum": 0,
    "hideHardwareSpecs": false,
    "memoryGiB": 32,
    "name": "ml.c5.4xlarge",
    "vcpuNum": 16
   },
   {
    "_defaultOrder": 25,
    "_isFastLaunch": false,
    "category": "Compute optimized",
    "gpuNum": 0,
    "hideHardwareSpecs": false,
    "memoryGiB": 72,
    "name": "ml.c5.9xlarge",
    "vcpuNum": 36
   },
   {
    "_defaultOrder": 26,
    "_isFastLaunch": false,
    "category": "Compute optimized",
    "gpuNum": 0,
    "hideHardwareSpecs": false,
    "memoryGiB": 96,
    "name": "ml.c5.12xlarge",
    "vcpuNum": 48
   },
   {
    "_defaultOrder": 27,
    "_isFastLaunch": false,
    "category": "Compute optimized",
    "gpuNum": 0,
    "hideHardwareSpecs": false,
    "memoryGiB": 144,
    "name": "ml.c5.18xlarge",
    "vcpuNum": 72
   },
   {
    "_defaultOrder": 28,
    "_isFastLaunch": false,
    "category": "Compute optimized",
    "gpuNum": 0,
    "hideHardwareSpecs": false,
    "memoryGiB": 192,
    "name": "ml.c5.24xlarge",
    "vcpuNum": 96
   },
   {
    "_defaultOrder": 29,
    "_isFastLaunch": true,
    "category": "Accelerated computing",
    "gpuNum": 1,
    "hideHardwareSpecs": false,
    "memoryGiB": 16,
    "name": "ml.g4dn.xlarge",
    "vcpuNum": 4
   },
   {
    "_defaultOrder": 30,
    "_isFastLaunch": false,
    "category": "Accelerated computing",
    "gpuNum": 1,
    "hideHardwareSpecs": false,
    "memoryGiB": 32,
    "name": "ml.g4dn.2xlarge",
    "vcpuNum": 8
   },
   {
    "_defaultOrder": 31,
    "_isFastLaunch": false,
    "category": "Accelerated computing",
    "gpuNum": 1,
    "hideHardwareSpecs": false,
    "memoryGiB": 64,
    "name": "ml.g4dn.4xlarge",
    "vcpuNum": 16
   },
   {
    "_defaultOrder": 32,
    "_isFastLaunch": false,
    "category": "Accelerated computing",
    "gpuNum": 1,
    "hideHardwareSpecs": false,
    "memoryGiB": 128,
    "name": "ml.g4dn.8xlarge",
    "vcpuNum": 32
   },
   {
    "_defaultOrder": 33,
    "_isFastLaunch": false,
    "category": "Accelerated computing",
    "gpuNum": 4,
    "hideHardwareSpecs": false,
    "memoryGiB": 192,
    "name": "ml.g4dn.12xlarge",
    "vcpuNum": 48
   },
   {
    "_defaultOrder": 34,
    "_isFastLaunch": false,
    "category": "Accelerated computing",
    "gpuNum": 1,
    "hideHardwareSpecs": false,
    "memoryGiB": 256,
    "name": "ml.g4dn.16xlarge",
    "vcpuNum": 64
   },
   {
    "_defaultOrder": 35,
    "_isFastLaunch": false,
    "category": "Accelerated computing",
    "gpuNum": 1,
    "hideHardwareSpecs": false,
    "memoryGiB": 61,
    "name": "ml.p3.2xlarge",
    "vcpuNum": 8
   },
   {
    "_defaultOrder": 36,
    "_isFastLaunch": false,
    "category": "Accelerated computing",
    "gpuNum": 4,
    "hideHardwareSpecs": false,
    "memoryGiB": 244,
    "name": "ml.p3.8xlarge",
    "vcpuNum": 32
   },
   {
    "_defaultOrder": 37,
    "_isFastLaunch": false,
    "category": "Accelerated computing",
    "gpuNum": 8,
    "hideHardwareSpecs": false,
    "memoryGiB": 488,
    "name": "ml.p3.16xlarge",
    "vcpuNum": 64
   },
   {
    "_defaultOrder": 38,
    "_isFastLaunch": false,
    "category": "Accelerated computing",
    "gpuNum": 8,
    "hideHardwareSpecs": false,
    "memoryGiB": 768,
    "name": "ml.p3dn.24xlarge",
    "vcpuNum": 96
   },
   {
    "_defaultOrder": 39,
    "_isFastLaunch": false,
    "category": "Memory Optimized",
    "gpuNum": 0,
    "hideHardwareSpecs": false,
    "memoryGiB": 16,
    "name": "ml.r5.large",
    "vcpuNum": 2
   },
   {
    "_defaultOrder": 40,
    "_isFastLaunch": false,
    "category": "Memory Optimized",
    "gpuNum": 0,
    "hideHardwareSpecs": false,
    "memoryGiB": 32,
    "name": "ml.r5.xlarge",
    "vcpuNum": 4
   },
   {
    "_defaultOrder": 41,
    "_isFastLaunch": false,
    "category": "Memory Optimized",
    "gpuNum": 0,
    "hideHardwareSpecs": false,
    "memoryGiB": 64,
    "name": "ml.r5.2xlarge",
    "vcpuNum": 8
   },
   {
    "_defaultOrder": 42,
    "_isFastLaunch": false,
    "category": "Memory Optimized",
    "gpuNum": 0,
    "hideHardwareSpecs": false,
    "memoryGiB": 128,
    "name": "ml.r5.4xlarge",
    "vcpuNum": 16
   },
   {
    "_defaultOrder": 43,
    "_isFastLaunch": false,
    "category": "Memory Optimized",
    "gpuNum": 0,
    "hideHardwareSpecs": false,
    "memoryGiB": 256,
    "name": "ml.r5.8xlarge",
    "vcpuNum": 32
   },
   {
    "_defaultOrder": 44,
    "_isFastLaunch": false,
    "category": "Memory Optimized",
    "gpuNum": 0,
    "hideHardwareSpecs": false,
    "memoryGiB": 384,
    "name": "ml.r5.12xlarge",
    "vcpuNum": 48
   },
   {
    "_defaultOrder": 45,
    "_isFastLaunch": false,
    "category": "Memory Optimized",
    "gpuNum": 0,
    "hideHardwareSpecs": false,
    "memoryGiB": 512,
    "name": "ml.r5.16xlarge",
    "vcpuNum": 64
   },
   {
    "_defaultOrder": 46,
    "_isFastLaunch": false,
    "category": "Memory Optimized",
    "gpuNum": 0,
    "hideHardwareSpecs": false,
    "memoryGiB": 768,
    "name": "ml.r5.24xlarge",
    "vcpuNum": 96
   },
   {
    "_defaultOrder": 47,
    "_isFastLaunch": false,
    "category": "Accelerated computing",
    "gpuNum": 1,
    "hideHardwareSpecs": false,
    "memoryGiB": 16,
    "name": "ml.g5.xlarge",
    "vcpuNum": 4
   },
   {
    "_defaultOrder": 48,
    "_isFastLaunch": false,
    "category": "Accelerated computing",
    "gpuNum": 1,
    "hideHardwareSpecs": false,
    "memoryGiB": 32,
    "name": "ml.g5.2xlarge",
    "vcpuNum": 8
   },
   {
    "_defaultOrder": 49,
    "_isFastLaunch": false,
    "category": "Accelerated computing",
    "gpuNum": 1,
    "hideHardwareSpecs": false,
    "memoryGiB": 64,
    "name": "ml.g5.4xlarge",
    "vcpuNum": 16
   },
   {
    "_defaultOrder": 50,
    "_isFastLaunch": false,
    "category": "Accelerated computing",
    "gpuNum": 1,
    "hideHardwareSpecs": false,
    "memoryGiB": 128,
    "name": "ml.g5.8xlarge",
    "vcpuNum": 32
   },
   {
    "_defaultOrder": 51,
    "_isFastLaunch": false,
    "category": "Accelerated computing",
    "gpuNum": 1,
    "hideHardwareSpecs": false,
    "memoryGiB": 256,
    "name": "ml.g5.16xlarge",
    "vcpuNum": 64
   },
   {
    "_defaultOrder": 52,
    "_isFastLaunch": false,
    "category": "Accelerated computing",
    "gpuNum": 4,
    "hideHardwareSpecs": false,
    "memoryGiB": 192,
    "name": "ml.g5.12xlarge",
    "vcpuNum": 48
   },
   {
    "_defaultOrder": 53,
    "_isFastLaunch": false,
    "category": "Accelerated computing",
    "gpuNum": 4,
    "hideHardwareSpecs": false,
    "memoryGiB": 384,
    "name": "ml.g5.24xlarge",
    "vcpuNum": 96
   },
   {
    "_defaultOrder": 54,
    "_isFastLaunch": false,
    "category": "Accelerated computing",
    "gpuNum": 8,
    "hideHardwareSpecs": false,
    "memoryGiB": 768,
    "name": "ml.g5.48xlarge",
    "vcpuNum": 192
   }
  ],
  "instance_type": "ml.t3.medium",
  "kernelspec": {
   "display_name": "Python 3 (TensorFlow 2.6 Python 3.8 CPU Optimized)",
   "language": "python",
   "name": "python3__SAGEMAKER_INTERNAL__arn:aws:sagemaker:us-east-1:081325390199:image/tensorflow-2.6-cpu-py38-ubuntu20.04-v1"
  },
  "language_info": {
   "codemirror_mode": {
    "name": "ipython",
    "version": 3
   },
   "file_extension": ".py",
   "mimetype": "text/x-python",
   "name": "python",
   "nbconvert_exporter": "python",
   "pygments_lexer": "ipython3",
   "version": "3.8.2"
  }
 },
 "nbformat": 4,
 "nbformat_minor": 5
}
